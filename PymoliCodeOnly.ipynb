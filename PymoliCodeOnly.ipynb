{
 "cells": [
  {
   "cell_type": "code",
   "execution_count": null,
   "metadata": {},
   "outputs": [],
   "source": [
    "# Dependencies and Setup\n",
    "import pandas as pd\n",
    "import numpy as np\n",
    "\n",
    "# File to Load (Remember to Change These)\n",
    "loaded_file = \"Resources/purchase_data.csv\"\n",
    "\n",
    "# Read Purchasing File and store into Pandas data frame\n",
    "purchdata = pd.read_csv(loaded_file)\n",
    "purchdata"
   ]
  },
  {
   "cell_type": "code",
   "execution_count": null,
   "metadata": {},
   "outputs": [],
   "source": [
    "#use the length of list of screen names for total players.\n",
    "totplayers = len(purchdata[\"SN\"].value_counts())\n",
    "\n",
    "#data frame with total players named player count\n",
    "playcount = pd.DataFrame({\"Total Players\":[totplayers]})\n",
    "playcount"
   ]
  },
  {
   "cell_type": "code",
   "execution_count": null,
   "metadata": {
    "scrolled": true
   },
   "outputs": [],
   "source": [
    "#unique items, average price, purchase count, and revenue\n",
    "uniqueit = len((purchdata[\"Item ID\"]).unique())\n",
    "avgprice = (purchdata[\"Price\"]).mean()\n",
    "numpurch = (purchdata[\"Purchase ID\"]).count()\n",
    "totrev = (purchdata[\"Price\"]).sum()\n",
    "\n",
    "#summary of data frame\n",
    "sumdf = pd.DataFrame({\"Number of Unique Items\":[uniqueit],\n",
    "                           \"Average Price\":[avgprice], \n",
    "                           \"Number of Purchases\": [numpurch], \n",
    "                           \"Total Revenue\": [totrev]})\n",
    "\n",
    "#format\n",
    "sumdf.style.format({'Average Price':\"${:,.2f}\",\n",
    "                         'Total Revenue': '${:,.2f}'})"
   ]
  },
  {
   "cell_type": "code",
   "execution_count": null,
   "metadata": {},
   "outputs": [],
   "source": [
    "#group data by Gender\n",
    "genstats = purchdata.groupby(\"Gender\")\n",
    "\n",
    "#count the total of screen names by gender\n",
    "totgend = genstats.nunique()[\"SN\"]\n",
    "\n",
    "#total count by gender and divided by total players \n",
    "perplayers = totgend/ totplayers * 100\n",
    "\n",
    "#create df with values found\n",
    "gendemo = pd.DataFrame({\"Percentage of Players\": perplayers, \"Total Count\": totgend})\n",
    "\n",
    "#format df no index \n",
    "gendemo.index.name = None\n",
    "\n",
    "#format the values sorted by total count in descending order\n",
    "gendemo.sort_values([\"Total Count\"], ascending = False).style.format({\"Percentage of Players\":\"{:.2f}\"})\n"
   ]
  },
  {
   "cell_type": "code",
   "execution_count": null,
   "metadata": {},
   "outputs": [],
   "source": [
    "#count the total purchases by gender \n",
    "purchcount = genstats[\"Purchase ID\"].count()\n",
    "\n",
    "#avg purchase prices by gender\n",
    "avgpri = genstats[\"Price\"].mean()\n",
    "\n",
    "#avg purchase total by gender \n",
    "avgtot = genstats[\"Price\"].sum()\n",
    "\n",
    "#avg purchase total by gender divided by purchase count\n",
    "avgper = avgtot/totgend\n",
    "\n",
    "#create df with values found \n",
    "gendemo = pd.DataFrame({\"Purchase Count\": purchcount, \n",
    "                                    \"Average Purchase Price\": avgpri,\n",
    "                                    \"Average Purchase Value\":avgtot,\n",
    "                                    \"Avg Purchase Total per Person\": avgper})\n",
    "\n",
    "#index in top left as \"Gender\"\n",
    "gendemo.index.name = \"Gender\"\n",
    "\n",
    "#format\n",
    "gendemo.style.format({\"Average Purchase Value\":\"${:,.2f}\",\n",
    "                                  \"Average Purchase Price\":\"${:,.2f}\",\n",
    "                                  \"Avg Purchase Total per Person\":\"${:,.2f}\"})"
   ]
  },
  {
   "cell_type": "code",
   "execution_count": null,
   "metadata": {},
   "outputs": [],
   "source": [
    "#bins for ages\n",
    "age = [0, 9.90, 14.90, 19.90, 24.90, 29.90, 34.90, 39.90, 99999]\n",
    "name = [\"-10\", \"10-14\", \"15-19\", \"20-24\", \"25-29\", \"30-34\", \"35-39\", \"40+\"]\n",
    "\n",
    "#sort age values into bins\n",
    "purchdata[\"Age Group\"] = pd.cut(purchdata[\"Age\"],age, labels=name)\n",
    "purchdata\n",
    "\n",
    "#create new df with the added Age Group then group\n",
    "agegrouped = purchdata.groupby(\"Age Group\")\n",
    "\n",
    "#count total players by age category\n",
    "totage = agegrouped[\"SN\"].nunique()\n",
    "\n",
    "#calculate percentages by age category \n",
    "perage = (totage/totplayers) * 100\n",
    "\n",
    "#create df with values found\n",
    "agedemo = pd.DataFrame({\"Percentage of Players\": perage, \"Total Count\": totage})\n",
    "\n",
    "#format df with no corner index \n",
    "agedemo.index.name = None\n",
    "\n",
    "#format \n",
    "agedemo.style.format({\"Percentage of Players\":\"{:,.2f}\"})"
   ]
  },
  {
   "cell_type": "code",
   "execution_count": null,
   "metadata": {},
   "outputs": [],
   "source": [
    "#count purchases by age group\n",
    "purchage = agegrouped[\"Purchase ID\"].count()\n",
    "\n",
    "#get avg purchase price by age group \n",
    "avgage = agegrouped[\"Price\"].mean()\n",
    "\n",
    "#calculate total purchase value by age group \n",
    "totval = agegrouped[\"Price\"].sum()\n",
    "\n",
    "#calculate avg purchase per person in the age group \n",
    "avgage = totval/totage\n",
    "\n",
    "#create df with values found\n",
    "agedemo = pd.DataFrame({\"Purchase Count\": purchage,\n",
    "                                 \"Average Purchase Price\": avgage,\n",
    "                                 \"Total Purchase Value\":totval,\n",
    "                                 \"Average Purchase Total per Person\": avgage})\n",
    "\n",
    "#format df with no corner index \n",
    "agedemo.index.name = None\n",
    "\n",
    "#format\n",
    "agedemo.style.format({\"Average Purchase Price\":\"${:,.2f}\",\n",
    "                               \"Total Purchase Value\":\"${:,.2f}\",\n",
    "                               \"Average Purchase Total per Person\":\"${:,.2f}\"})\n"
   ]
  },
  {
   "cell_type": "code",
   "execution_count": null,
   "metadata": {},
   "outputs": [],
   "source": [
    "#group purchase data by screen names\n",
    "spender = purchdata.groupby(\"SN\")\n",
    "\n",
    "#count the total purchases\n",
    "purchspen = spender[\"Purchase ID\"].count()\n",
    "\n",
    "#calculate avg purchase by name \n",
    "avgspen = spender[\"Price\"].mean()\n",
    "\n",
    "#calculate total purchase\n",
    "purchspen = spender[\"Price\"].sum()\n",
    "\n",
    "#create df with values found\n",
    "topspen = pd.DataFrame({\"Purchase Count\": purchspen,\n",
    "                             \"Average Purchase Price\": avgspen,\n",
    "                             \"Total Purchase Value\":purchspen})\n",
    "\n",
    "#sort in descending order\n",
    "formattedspen = topspen.sort_values([\"Total Purchase Value\"], ascending=False)\n",
    "\n",
    "#format\n",
    "formattedspen.style.format({\"Average Purchase Total\":\"${:,.2f}\",\n",
    "                                 \"Average Purchase Price\":\"${:,.2f}\", \n",
    "                                 \"Total Purchase Value\":\"${:,.2f}\"})"
   ]
  },
  {
   "cell_type": "code",
   "execution_count": null,
   "metadata": {},
   "outputs": [],
   "source": [
    "#create new df with items info\n",
    "items = purchdata[[\"Item ID\", \"Item Name\", \"Price\"]]\n",
    "\n",
    "#group item data by item id & name \n",
    "itemstats = items.groupby([\"Item ID\",\"Item Name\"])\n",
    "\n",
    "#count the number item has been purchased \n",
    "purchitem = itemstats[\"Price\"].count()\n",
    "\n",
    "#calculate the purchase value per item \n",
    "purchval = (itemstats[\"Price\"].sum()) \n",
    "\n",
    "#find individual item price\n",
    "itemprice = purchval/purchitem\n",
    "\n",
    "#create df with values found\n",
    "mopopitems = pd.DataFrame({\"Purchase Count\": purchitem, \n",
    "                                   \"Item Price\": itemprice,\n",
    "                                   \"Total Purchase Value\":purchval})\n",
    "\n",
    "#sort in descending order \n",
    "popform = mopopitems.sort_values([\"Purchase Count\"], ascending=False)\n",
    "\n",
    "#format\n",
    "popform.style.format({\"Item Price\":\"${:,.2f}\",\n",
    "                                \"Total Purchase Value\":\"${:,.2f}\"})"
   ]
  },
  {
   "cell_type": "code",
   "execution_count": null,
   "metadata": {
    "scrolled": true
   },
   "outputs": [],
   "source": [
    "#take popular items df and sort to find highest total purchase value\n",
    "popform = mopopitems.sort_values([\"Total Purchase Value\"],\n",
    "                                                   ascending=False)\n",
    "#format\n",
    "popform.style.format({\"Item Price\":\"${:,.2f}\",\n",
    "                                \"Total Purchase Value\":\"${:,.2f}\"})"
   ]
  }
 ],
 "metadata": {
  "anaconda-cloud": {},
  "kernel_info": {
   "name": "python3"
  },
  "kernelspec": {
   "display_name": "Python 3",
   "language": "python",
   "name": "python3"
  },
  "language_info": {
   "codemirror_mode": {
    "name": "ipython",
    "version": 3
   },
   "file_extension": ".py",
   "mimetype": "text/x-python",
   "name": "python",
   "nbconvert_exporter": "python",
   "pygments_lexer": "ipython3",
   "version": "3.7.0"
  },
  "nteract": {
   "version": "0.2.0"
  }
 },
 "nbformat": 4,
 "nbformat_minor": 2
}
